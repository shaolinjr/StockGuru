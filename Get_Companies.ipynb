{
 "cells": [
  {
   "cell_type": "code",
   "execution_count": 131,
   "metadata": {
    "collapsed": true
   },
   "outputs": [],
   "source": [
    "from lxml import html\n",
    "import requests\n",
    "from collections import OrderedDict\n"
   ]
  },
  {
   "cell_type": "code",
   "execution_count": 162,
   "metadata": {
    "collapsed": true
   },
   "outputs": [
    {
     "name": "stdout",
     "output_type": "stream",
     "text": [
      "Next page:  http://www.guiainvest.com.br/lista-acoes/default.aspx?listaacaopage=2\n",
      "Next page:  http://www.guiainvest.com.br/lista-acoes/default.aspx?listaacaopage=3\n",
      "Next page:  http://www.guiainvest.com.br/lista-acoes/default.aspx?listaacaopage=4\n",
      "Next page:  http://www.guiainvest.com.br/lista-acoes/default.aspx?listaacaopage=5\n",
      "Next page:  http://www.guiainvest.com.br/lista-acoes/default.aspx?listaacaopage=6\n",
      "Next page:  http://www.guiainvest.com.br/lista-acoes/default.aspx?listaacaopage=7\n",
      "Next page:  http://www.guiainvest.com.br/lista-acoes/default.aspx?listaacaopage=8\n",
      "Next page:  http://www.guiainvest.com.br/lista-acoes/default.aspx?listaacaopage=9\n",
      "Next page:  http://www.guiainvest.com.br/lista-acoes/default.aspx?listaacaopage=10\n",
      "Next page:  http://www.guiainvest.com.br/lista-acoes/default.aspx?listaacaopage=11\n",
      "Next page:  http://www.guiainvest.com.br/lista-acoes/default.aspx?listaacaopage=12\n",
      "Next page:  http://www.guiainvest.com.br/lista-acoes/default.aspx?listaacaopage=13\n",
      "Next page:  http://www.guiainvest.com.br/lista-acoes/default.aspx?listaacaopage=14\n",
      "Next page:  http://www.guiainvest.com.br/lista-acoes/default.aspx?listaacaopage=15\n",
      "Next page:  http://www.guiainvest.com.br/lista-acoes/default.aspx?listaacaopage=16\n",
      "Next page:  http://www.guiainvest.com.br/lista-acoes/default.aspx?listaacaopage=17\n",
      "Next page:  http://www.guiainvest.com.br/lista-acoes/default.aspx?listaacaopage=18\n",
      "Next page:  http://www.guiainvest.com.br/lista-acoes/default.aspx?listaacaopage=19\n",
      "Next page:  http://www.guiainvest.com.br/lista-acoes/default.aspx?listaacaopage=20\n",
      "Next page:  http://www.guiainvest.com.br/lista-acoes/default.aspx?listaacaopage=21\n",
      "Next page:  http://www.guiainvest.com.br/lista-acoes/default.aspx?listaacaopage=22\n",
      "Next page:  http://www.guiainvest.com.br/lista-acoes/default.aspx?listaacaopage=23\n",
      "Next page:  http://www.guiainvest.com.br/lista-acoes/default.aspx?listaacaopage=24\n",
      "Next page:  http://www.guiainvest.com.br/lista-acoes/default.aspx?listaacaopage=25\n",
      "Next page:  http://www.guiainvest.com.br/lista-acoes/default.aspx?listaacaopage=26\n",
      "Next page:  http://www.guiainvest.com.br/lista-acoes/default.aspx?listaacaopage=27\n",
      "Next page:  http://www.guiainvest.com.br/lista-acoes/default.aspx?listaacaopage=28\n",
      "Next page:  http://www.guiainvest.com.br/lista-acoes/default.aspx?listaacaopage=29\n",
      "Next page:  http://www.guiainvest.com.br/lista-acoes/default.aspx?listaacaopage=30\n",
      "Next page:  http://www.guiainvest.com.br/lista-acoes/default.aspx?listaacaopage=31\n",
      "Next page:  http://www.guiainvest.com.br/lista-acoes/default.aspx?listaacaopage=32\n",
      "Next page:  http://www.guiainvest.com.br/lista-acoes/default.aspx?listaacaopage=33\n",
      "Next page:  http://www.guiainvest.com.br/lista-acoes/default.aspx?listaacaopage=34\n",
      "Next page:  http://www.guiainvest.com.br/lista-acoes/default.aspx?listaacaopage=35\n",
      "None\n",
      "CPU times: user 661 ms, sys: 50.7 ms, total: 711 ms\n",
      "Wall time: 18.1 s\n"
     ]
    }
   ],
   "source": [
    "%%time\n",
    "base_url = \"http://www.guiainvest.com.br\"\n",
    "next_page = \"/lista-acoes/default.aspx\" \n",
    "companies_info = []\n",
    "companies_and_code = []\n",
    "\n",
    "while next_page != \"None\":\n",
    "    page = requests.get(base_url+next_page)\n",
    "    HTML_tree = html.fromstring(page.content)\n",
    "\n",
    "# adicionando os nomes\n",
    "    for item in HTML_tree.cssselect(\".rgMasterTable tbody tr \"):\n",
    "        \n",
    "        nome = item.cssselect(\"#hlNome\")[0]\n",
    "        codigo = item.cssselect(\"td:nth-child(2)\")[0]\n",
    "        companies_info.append(OrderedDict({\"nome\": nome.text,\"codigo\":codigo.text}))\n",
    "        companies_and_code.append(OrderedDict({nome.text:codigo.text}))\n",
    "    next_element = HTML_tree.cssselect(\".NextPrevAndNumeric .rgArrPart2 a:nth-child(1)\")\n",
    "    next_page = str(next_element[0].get(\"href\"))\n",
    "    if (next_page == 'None'):\n",
    "        print(\"None\")\n",
    "    else:\n",
    "        print(\"Next page: \", base_url+next_page)\n",
    "\n"
   ]
  },
  {
   "cell_type": "code",
   "execution_count": 167,
   "metadata": {},
   "outputs": [],
   "source": [
    "def getCode (company_name,companies_list):\n",
    "    for company in companies_list:\n",
    "        if (company[\"nome\"] == company_name):\n",
    "            return company[\"codigo\"]\n",
    "    return \"Empresa não encontrada!\"\n"
   ]
  },
  {
   "cell_type": "code",
   "execution_count": 168,
   "metadata": {},
   "outputs": [
    {
     "data": {
      "text/plain": [
       "'FESA4'"
      ]
     },
     "execution_count": 168,
     "metadata": {},
     "output_type": "execute_result"
    }
   ],
   "source": [
    "getCode(\"FERBASA PN\",companies_info)"
   ]
  },
  {
   "cell_type": "code",
   "execution_count": null,
   "metadata": {
    "collapsed": true
   },
   "outputs": [],
   "source": []
  }
 ],
 "metadata": {
  "kernelspec": {
   "display_name": "Python 3",
   "language": "python",
   "name": "python3"
  },
  "language_info": {
   "codemirror_mode": {
    "name": "ipython",
    "version": 3
   },
   "file_extension": ".py",
   "mimetype": "text/x-python",
   "name": "python",
   "nbconvert_exporter": "python",
   "pygments_lexer": "ipython3",
   "version": "3.5.2"
  }
 },
 "nbformat": 4,
 "nbformat_minor": 2
}
