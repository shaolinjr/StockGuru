{
 "cells": [
  {
   "cell_type": "code",
   "execution_count": 32,
   "metadata": {
    "collapsed": true
   },
   "outputs": [],
   "source": [
    "import requests\n",
    "from lxml import html\n",
    "import json\n",
    "from googlefinance import getQuotes\n",
    "\n",
    "from urllib.request import Request, urlopen"
   ]
  },
  {
   "cell_type": "code",
   "execution_count": 29,
   "metadata": {
    "scrolled": true
   },
   "outputs": [
    {
     "name": "stdout",
     "output_type": "stream",
     "text": [
      "Next page:  http://www.guiainvest.com.br/lista-acoes/default.aspx?listaacaopage=2\n",
      "Next page:  http://www.guiainvest.com.br/lista-acoes/default.aspx?listaacaopage=3\n",
      "Next page:  http://www.guiainvest.com.br/lista-acoes/default.aspx?listaacaopage=4\n",
      "Next page:  http://www.guiainvest.com.br/lista-acoes/default.aspx?listaacaopage=5\n",
      "Next page:  http://www.guiainvest.com.br/lista-acoes/default.aspx?listaacaopage=6\n",
      "Next page:  http://www.guiainvest.com.br/lista-acoes/default.aspx?listaacaopage=7\n",
      "Next page:  http://www.guiainvest.com.br/lista-acoes/default.aspx?listaacaopage=8\n",
      "Next page:  http://www.guiainvest.com.br/lista-acoes/default.aspx?listaacaopage=9\n",
      "Next page:  http://www.guiainvest.com.br/lista-acoes/default.aspx?listaacaopage=10\n",
      "Next page:  http://www.guiainvest.com.br/lista-acoes/default.aspx?listaacaopage=11\n",
      "Next page:  http://www.guiainvest.com.br/lista-acoes/default.aspx?listaacaopage=12\n",
      "Next page:  http://www.guiainvest.com.br/lista-acoes/default.aspx?listaacaopage=13\n",
      "Next page:  http://www.guiainvest.com.br/lista-acoes/default.aspx?listaacaopage=14\n",
      "Next page:  http://www.guiainvest.com.br/lista-acoes/default.aspx?listaacaopage=15\n",
      "Next page:  http://www.guiainvest.com.br/lista-acoes/default.aspx?listaacaopage=16\n",
      "Next page:  http://www.guiainvest.com.br/lista-acoes/default.aspx?listaacaopage=17\n",
      "Next page:  http://www.guiainvest.com.br/lista-acoes/default.aspx?listaacaopage=18\n",
      "Next page:  http://www.guiainvest.com.br/lista-acoes/default.aspx?listaacaopage=19\n",
      "Next page:  http://www.guiainvest.com.br/lista-acoes/default.aspx?listaacaopage=20\n",
      "Next page:  http://www.guiainvest.com.br/lista-acoes/default.aspx?listaacaopage=21\n",
      "Next page:  http://www.guiainvest.com.br/lista-acoes/default.aspx?listaacaopage=22\n",
      "Next page:  http://www.guiainvest.com.br/lista-acoes/default.aspx?listaacaopage=23\n",
      "Next page:  http://www.guiainvest.com.br/lista-acoes/default.aspx?listaacaopage=24\n",
      "Next page:  http://www.guiainvest.com.br/lista-acoes/default.aspx?listaacaopage=25\n",
      "Next page:  http://www.guiainvest.com.br/lista-acoes/default.aspx?listaacaopage=26\n",
      "Next page:  http://www.guiainvest.com.br/lista-acoes/default.aspx?listaacaopage=27\n",
      "Next page:  http://www.guiainvest.com.br/lista-acoes/default.aspx?listaacaopage=28\n",
      "Next page:  http://www.guiainvest.com.br/lista-acoes/default.aspx?listaacaopage=29\n",
      "Next page:  http://www.guiainvest.com.br/lista-acoes/default.aspx?listaacaopage=30\n",
      "Next page:  http://www.guiainvest.com.br/lista-acoes/default.aspx?listaacaopage=31\n",
      "Next page:  http://www.guiainvest.com.br/lista-acoes/default.aspx?listaacaopage=32\n",
      "Next page:  http://www.guiainvest.com.br/lista-acoes/default.aspx?listaacaopage=33\n",
      "Next page:  http://www.guiainvest.com.br/lista-acoes/default.aspx?listaacaopage=34\n",
      "Next page:  http://www.guiainvest.com.br/lista-acoes/default.aspx?listaacaopage=35\n",
      "None\n"
     ]
    }
   ],
   "source": [
    "base_url = \"http://www.guiainvest.com.br\"\n",
    "next_page = \"/lista-acoes/default.aspx\" \n",
    "companies_info = []\n",
    "companies_and_code = []\n",
    "\n",
    "while next_page != \"None\":\n",
    "    page = requests.get(base_url+next_page)\n",
    "    HTML_tree = html.fromstring(page.content)\n",
    "\n",
    "# adicionando os nomes\n",
    "    for item in HTML_tree.cssselect(\".rgMasterTable tbody tr \"):\n",
    "        \n",
    "        nome = item.cssselect(\"#hlNome\")[0]\n",
    "        codigo = item.cssselect(\"td:nth-child(2)\")[0]\n",
    "        companies_info.append(OrderedDict({\"nome\": nome.text,\"codigo\":codigo.text}))\n",
    "        companies_and_code.append(OrderedDict({nome.text:codigo.text}))\n",
    "    next_element = HTML_tree.cssselect(\".NextPrevAndNumeric .rgArrPart2 a:nth-child(1)\")\n",
    "    next_page = str(next_element[0].get(\"href\"))\n",
    "    if (next_page == 'None'):\n",
    "        print(\"None\")\n",
    "    else:\n",
    "        print(\"Next page: \", base_url+next_page)\n",
    "\n",
    "companies_json = json.dumps(companies_info)\n"
   ]
  },
  {
   "cell_type": "code",
   "execution_count": 20,
   "metadata": {
    "collapsed": true
   },
   "outputs": [],
   "source": [
    "def getCode (company_name,companies_list):\n",
    "    for company in companies_list:\n",
    "        if (company[\"nome\"] == company_name):\n",
    "            return company[\"codigo\"]\n",
    "    return \"Empresa não encontrada!\"\n"
   ]
  },
  {
   "cell_type": "code",
   "execution_count": 25,
   "metadata": {},
   "outputs": [
    {
     "data": {
      "text/plain": [
       "'DISB34'"
      ]
     },
     "execution_count": 25,
     "metadata": {},
     "output_type": "execute_result"
    }
   ],
   "source": [
    "stock = getCode(\"WALT DISNEY DRN\",companies_info)\n",
    "stock"
   ]
  },
  {
   "cell_type": "code",
   "execution_count": 31,
   "metadata": {},
   "outputs": [
    {
     "name": "stdout",
     "output_type": "stream",
     "text": [
      "[{'LastTradePrice': '3.3270', 'LastTradeTime': '', 'LastTradeDateTimeLong': 'Jun 21, 1:57AM GMT', 'Index': 'CURRENCY', 'LastTradeWithCurrency': '', 'ID': '-2001', 'StockSymbol': 'USDBRL', 'LastTradeDateTime': '2017-06-21T01:57:08Z'}]\n"
     ]
    }
   ],
   "source": [
    "print (getQuotes(\"CURRENCY:USDBRL\"))"
   ]
  },
  {
   "cell_type": "code",
   "execution_count": 30,
   "metadata": {},
   "outputs": [],
   "source": [
    "with open('companies_info.txt', 'w') as outfile:\n",
    "    json.dump(companies_json, outfile)"
   ]
  },
  {
   "cell_type": "code",
   "execution_count": 38,
   "metadata": {},
   "outputs": [
    {
     "data": {
      "text/plain": [
       "'[\\n{\\n\"id\": \"22144\"\\n,\"t\" : \"AAPL\"\\n,\"e\" : \"NASDAQ\"\\n,\"l\" : \"145.01\"\\n,\"l_fix\" : \"145.01\"\\n,\"l_cur\" : \"145.01\"\\n,\"s\": \"2\"\\n,\"ltt\":\"4:00PM EDT\"\\n,\"lt\" : \"Jun 20, 4:00PM EDT\"\\n,\"lt_dts\" : \"2017-06-20T16:00:06Z\"\\n,\"c\" : \"-1.33\"\\n,\"c_fix\" : \"-1.33\"\\n,\"cp\" : \"-0.91\"\\n,\"cp_fix\" : \"-0.91\"\\n,\"ccol\" : \"chr\"\\n,\"pcls_fix\" : \"146.34\"\\n,\"el\": \"145.10\"\\n,\"el_fix\": \"145.10\"\\n,\"el_cur\": \"145.10\"\\n,\"elt\" : \"Jun 20, 7:59PM EDT\"\\n,\"ec\" : \"+0.09\"\\n,\"ec_fix\" : \"0.09\"\\n,\"ecp\" : \"0.06\"\\n,\"ecp_fix\" : \"0.06\"\\n,\"eccol\" : \"chg\"\\n,\"div\" : \"0.63\"\\n,\"yld\" : \"1.74\"\\n}\\n]'"
      ]
     },
     "execution_count": 38,
     "metadata": {},
     "output_type": "execute_result"
    }
   ],
   "source": [
    "req = Request('http://finance.google.com/finance/info?client=ig&q=AAPL')\n",
    "resp = urlopen(req)\n",
    "content = resp.read().decode('ascii', 'ignore').strip()\n",
    "content = content[3:]\n",
    "content"
   ]
  },
  {
   "cell_type": "code",
   "execution_count": null,
   "metadata": {
    "collapsed": true
   },
   "outputs": [],
   "source": []
  }
 ],
 "metadata": {
  "kernelspec": {
   "display_name": "Python 3",
   "language": "python",
   "name": "python3"
  },
  "language_info": {
   "codemirror_mode": {
    "name": "ipython",
    "version": 3
   },
   "file_extension": ".py",
   "mimetype": "text/x-python",
   "name": "python",
   "nbconvert_exporter": "python",
   "pygments_lexer": "ipython3",
   "version": "3.5.2"
  }
 },
 "nbformat": 4,
 "nbformat_minor": 2
}
